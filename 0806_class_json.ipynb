{
  "nbformat": 4,
  "nbformat_minor": 0,
  "metadata": {
    "colab": {
      "provenance": [],
      "include_colab_link": true
    },
    "kernelspec": {
      "name": "python3",
      "display_name": "Python 3"
    },
    "language_info": {
      "name": "python"
    }
  },
  "cells": [
    {
      "cell_type": "markdown",
      "metadata": {
        "id": "view-in-github",
        "colab_type": "text"
      },
      "source": [
        "<a href=\"https://colab.research.google.com/github/KarinVe/wotech-java-2024/blob/main/0806_class_json.ipynb\" target=\"_parent\"><img src=\"https://colab.research.google.com/assets/colab-badge.svg\" alt=\"Open In Colab\"/></a>"
      ]
    },
    {
      "cell_type": "code",
      "execution_count": null,
      "metadata": {
        "colab": {
          "base_uri": "https://localhost:8080/"
        },
        "id": "YDN4mjR4pTtX",
        "outputId": "56b2a967-abf8-4287-bf0c-3d174731499b"
      },
      "outputs": [
        {
          "output_type": "stream",
          "name": "stdout",
          "text": [
            "We have 3 clients in our bank:\n",
            "Client Anna has the following accounts:\n",
            "    EE654987564321 (EUR) 1990.0\n",
            "        2024-06-01 09:01:19.258792 EUR 1200\n",
            "        2024-06-01 09:01:19.258831 EUR -50\n",
            "        2024-06-01 09:01:19.258862 EUR -140\n",
            "        2024-06-01 09:01:19.258892 EUR -20\n",
            "    JP582147859635 (JPY) 25000.3\n",
            "    US654987643214 (USD) 0.0\n",
            "Client Oskar has the following accounts:\n",
            "    PL849512635445 (PLN) 47800.0\n",
            "Client Jenifer has the following accounts:\n",
            "    SE741254956587 (SEK) 200.18\n"
          ]
        }
      ],
      "source": [
        "import datetime\n",
        "import json\n",
        "\n",
        "class Client:\n",
        "  number_of_clients = 0\n",
        "\n",
        "  def __init__(self, id, name):\n",
        "    self.id = id\n",
        "    self.name = name\n",
        "    self.accounts = []\n",
        "    Client.number_of_clients += 1\n",
        "\n",
        "  def add_account(self, account):\n",
        "    self.accounts.append(account)\n",
        "\n",
        "class Account:\n",
        "  def __init__(self, number, currency, balance = 0.0):\n",
        "    self.number = number\n",
        "    self.currency = currency\n",
        "    self.balance = balance\n",
        "    self.transactions = []\n",
        "\n",
        "  def make_deposit(self, amount, note):\n",
        "    self.transactions.append(Transaction(self.currency, amount, note))\n",
        "    self.balance += amount\n",
        "\n",
        "  def make_withdrawal(self, amount, note):\n",
        "    self.transactions.append(Transaction(self.currency, -amount, note))\n",
        "    self.balance -= amount\n",
        "\n",
        "class Transaction:\n",
        "  def __init__(self, currency, amount, note):\n",
        "    self.currency = currency\n",
        "    self.amount = amount\n",
        "    self.note = note\n",
        "    self.time_stamp = datetime.datetime.now()\n",
        "\n",
        "# now, let us work using those classes\n",
        "# adding clients to a list\n",
        "clients = []\n",
        "clients.append(Client('123456', 'Anna'))\n",
        "clients.append(Client('987654', 'Oskar'))\n",
        "clients.append(Client('456123', 'Jenifer'))\n",
        "\n",
        "# adding accounts to clients\n",
        "clients[0].add_account(Account('EE654987564321', 'EUR', 1000.0))\n",
        "clients[0].add_account(Account('JP582147859635', 'JPY', 25000.30))\n",
        "clients[0].add_account(Account('US654987643214', 'USD'))\n",
        "clients[1].add_account(Account('PL849512635445', 'PLN', 47800.00))\n",
        "clients[2].add_account(Account('SE741254956587', 'SEK', 200.18))\n",
        "\n",
        "\n",
        "# let's make some transactions\n",
        "clients[0].accounts[0].make_deposit(1200, 'Salary')\n",
        "clients[0].accounts[0].make_withdrawal(50, 'Grocery')\n",
        "clients[0].accounts[0].make_withdrawal(140, 'Clothes')\n",
        "clients[0].accounts[0].make_withdrawal(20, 'Dinner')\n",
        "\n",
        "# printing some data\n",
        "print(f'We have {Client.number_of_clients} clients in our bank:')\n",
        "\n",
        "for client in clients:\n",
        "  print(f'Client {client.name} has the following accounts:')\n",
        "  for account in client.accounts:\n",
        "    print(f'    {account.number} ({account.currency}) {account.balance}')\n",
        "    for transaction in account.transactions:\n",
        "      print(f'        {transaction.time_stamp} {transaction.currency} {transaction.amount}')"
      ]
    },
    {
      "cell_type": "code",
      "source": [
        "import json\n",
        "# Define student_details dictionary\n",
        "student_details ={\n",
        "    \"name\" : \"sathiyajith\",\n",
        "    \"rollno\" : 56,\n",
        "    \"cgpa\" : 8.6,\n",
        "    \"phonenumber\" : \"9976770500\"\n",
        "}\n",
        "\n",
        "# Convert and write JSON object to file\n",
        "with open(\"sample.json\", \"w\") as outfile:\n",
        "    json.dump(student_details, outfile)"
      ],
      "metadata": {
        "id": "Z4icTjkS8oAU"
      },
      "execution_count": null,
      "outputs": []
    },
    {
      "cell_type": "markdown",
      "source": [
        "CSV - Comma Separated Values\n",
        "\n",
        "id, name, accounts\n",
        "123456789, Anna, \"[857367, 256178, 273867]\"\n",
        "322334243, Oskar, \"[234337]\"\n",
        "323276276, Jenifer, \"[3526362]\"\n",
        "\n",
        "id, name, surname, salary\n",
        "123456, Anna, Johnson, 8000\n",
        "321426, Oskar, Smith, 2000\n",
        "\n",
        "\n"
      ],
      "metadata": {
        "id": "RJBF2UWsrJoU"
      }
    },
    {
      "cell_type": "code",
      "source": [],
      "metadata": {
        "id": "MOUiZMgrv5XH"
      },
      "execution_count": null,
      "outputs": []
    },
    {
      "cell_type": "markdown",
      "source": [
        "JSON - Java Script Object Notation\n",
        "{\n",
        "    \"clients\": [\n",
        "        {\n",
        "            \"id\": \"123456\",\n",
        "            \"name\": \"Anna\",\n",
        "            \"accounts\": [\n",
        "              {\n",
        "                \"number\": \"EE573784623652\",\n",
        "                \"currency\": \"EUR\",\n",
        "                \"balance\": 1000.00\n",
        "              },\n",
        "              {\n",
        "                \"number\": \"JP573765555652\",\n",
        "                \"currency\": \"JPY\",\n",
        "                \"balance\": 25000.00\n",
        "              },\n",
        "              {\n",
        "                \"number\": \"US655567778888\",\n",
        "                \"currency\": \"USD\",\n",
        "                \"balance\": 0\n",
        "              }\n",
        "            ]\n",
        "          },\n",
        "          {\n",
        "            \"id\": \"987654\",\n",
        "            \"name\": \"Oskar\",\n",
        "            \"accounts\": [\n",
        "              {\n",
        "                \"number\": \"PL849512635445\",\n",
        "                \"currency\": \"PLN\",\n",
        "                \"balance\": 47800.00\n",
        "              }\n",
        "            ]\n",
        "          },\n",
        "        {}\n",
        "    ]\n",
        "}"
      ],
      "metadata": {
        "id": "yI6kVUHLzTva"
      }
    },
    {
      "cell_type": "code",
      "source": [
        "import datetime\n",
        "import json\n",
        "\n",
        "class Client:\n",
        "    number_of_clients = 0\n",
        "\n",
        "    def __init__(self, id, name):\n",
        "        self.id = id\n",
        "        self.name = name\n",
        "        self.accounts = []\n",
        "        Client.number_of_clients += 1\n",
        "\n",
        "    def add_account(self, account):\n",
        "        self.accounts.append(account)\n",
        "\n",
        "    def to_dict(self):\n",
        "        return {\n",
        "            'id': self.id,\n",
        "            'name': self.name,\n",
        "            'accounts': [account.to_dict() for account in self.accounts]\n",
        "        }\n",
        "\n",
        "class Account:\n",
        "    def __init__(self, number, currency, balance=0.0):\n",
        "        self.number = number\n",
        "        self.currency = currency\n",
        "        self.balance = balance\n",
        "        self.transactions = []\n",
        "\n",
        "    def make_deposit(self, amount, note):\n",
        "        self.transactions.append(Transaction(self.currency, amount, note))\n",
        "        self.balance += amount\n",
        "\n",
        "    def make_withdrawal(self, amount, note):\n",
        "        self.transactions.append(Transaction(self.currency, -amount, note))\n",
        "        self.balance -= amount\n",
        "\n",
        "    def to_dict(self):\n",
        "        return {\n",
        "            'number': self.number,\n",
        "            'currency': self.currency,\n",
        "            'balance': self.balance,\n",
        "            'transactions': [transaction.to_dict() for transaction in self.transactions]\n",
        "        }\n",
        "\n",
        "class Transaction:\n",
        "    def __init__(self, currency, amount, note):\n",
        "        self.currency = currency\n",
        "        self.amount = amount\n",
        "        self.note = note\n",
        "        self.time_stamp = datetime.datetime.now()\n",
        "\n",
        "    def to_dict(self):\n",
        "        return {\n",
        "            'currency': self.currency,\n",
        "            'amount': self.amount,\n",
        "            'note': self.note,\n",
        "            'time_stamp': self.time_stamp.isoformat()\n",
        "        }\n",
        "\n",
        "# now, let us work using those classes\n",
        "# adding clients to a list\n",
        "clients = []\n",
        "clients.append(Client('123456', 'Anna'))\n",
        "clients.append(Client('987654', 'Oskar'))\n",
        "clients.append(Client('456123', 'Jenifer'))\n",
        "\n",
        "# adding accounts to clients\n",
        "clients[0].add_account(Account('EE654987564321', 'EUR', 1000.0))\n",
        "clients[0].add_account(Account('JP582147859635', 'JPY', 25000.30))\n",
        "clients[0].add_account(Account('US654987643214', 'USD'))\n",
        "clients[1].add_account(Account('PL849512635445', 'PLN', 47800.00))\n",
        "clients[2].add_account(Account('SE741254956587', 'SEK', 200.18))\n",
        "\n",
        "# let's make some transactions\n",
        "clients[0].accounts[0].make_deposit(1200, 'Salary')\n",
        "clients[0].accounts[0].make_withdrawal(50, 'Grocery')\n",
        "clients[0].accounts[0].make_withdrawal(140, 'Clothes')\n",
        "clients[0].accounts[0].make_withdrawal(20, 'Dinner')\n",
        "\n",
        "# Convert all clients to a list of dictionaries\n",
        "clients_dict = [client.to_dict() for client in clients]\n",
        "\n",
        "# Save to JSON file\n",
        "with open('clients_data.json', 'w') as json_file:\n",
        "    json.dump(clients_dict, json_file, indent=4)\n",
        "\n",
        "print(\"Data has been saved to clients_data.json\")"
      ],
      "metadata": {
        "colab": {
          "base_uri": "https://localhost:8080/"
        },
        "id": "YV2kdvEG_yO9",
        "outputId": "8c77750e-c778-4b2b-c8d5-1ba4c835252f"
      },
      "execution_count": null,
      "outputs": [
        {
          "output_type": "stream",
          "name": "stdout",
          "text": [
            "Data has been saved to clients_data.json\n"
          ]
        }
      ]
    },
    {
      "cell_type": "code",
      "source": [
        "# reading JSON into a dictionary\n",
        "import json\n",
        "\n",
        "with open('clients_data.json') as json_file:\n",
        "    data = json.load(json_file)\n",
        "\n",
        "for client in data:\n",
        "    print(f'{client[\"name\"]} ({client[\"id\"]})')"
      ],
      "metadata": {
        "colab": {
          "base_uri": "https://localhost:8080/"
        },
        "id": "y-FtSbMsCIMx",
        "outputId": "0d56c07b-b454-4cb8-b61e-e9280a60902c"
      },
      "execution_count": null,
      "outputs": [
        {
          "output_type": "stream",
          "name": "stdout",
          "text": [
            "Anna (123456)\n",
            "Oskar (987654)\n",
            "Jenifer (456123)\n"
          ]
        }
      ]
    }
  ]
}